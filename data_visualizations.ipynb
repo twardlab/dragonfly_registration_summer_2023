{
 "cells": [
  {
   "cell_type": "code",
   "execution_count": null,
   "id": "a7aa6754-1aba-4ccf-b711-37c7bda488a1",
   "metadata": {
    "tags": []
   },
   "outputs": [],
   "source": [
    "import matplotlib.pyplot as plt\n",
    "import imageio\n",
    "import numpy as np\n",
    "import os\n",
    "import sys\n",
    "\n",
    "sys.path.append('..')\n",
    "sys.path.append('/home/abenneck')"
   ]
  },
  {
   "cell_type": "code",
   "execution_count": null,
   "id": "8dea550f-59b1-4777-8661-422df7626349",
   "metadata": {
    "tags": []
   },
   "outputs": [],
   "source": [
    "# Filter functions\n",
    "def check_recon(fileName):\n",
    "    if 'recon' in fileName:\n",
    "        return True\n",
    "    return False\n",
    "\n",
    "def check_rgb(fileName):\n",
    "    if 'rgb' in fileName:\n",
    "        return True\n",
    "    return False\n",
    "\n",
    "# Generate each frame of a gif, returning the fig, ax objects\n",
    "def create_frame(brain, imgPath):\n",
    "    it = os.path.splitext(imgPath)[0][-5:]\n",
    "    fig, ax = plt.subplots()\n",
    "    ax.imshow(plt.imread(imgPath))\n",
    "    ax.set_title(f'{brain}: Iteration {it}')\n",
    "    ax.set_axis_off()\n",
    "    \n",
    "    fig.set_size_inches(10,8)\n",
    "    \n",
    "    return fig, ax\n",
    "\n",
    "# Generate gif of Step 1 optimization of 'brain'\n",
    "def create_gif_Step1(brain, indir, outdir, isRecon):\n",
    "    \n",
    "    if isRecon:\n",
    "        all_jpg = sorted(list(filter(check_recon, os.listdir(indir)))) # A sorted list of all recon file names\n",
    "    else:\n",
    "        all_jpg = sorted(list(filter(check_rgb, os.listdir(indir)))) # A sorted list of all rgb file names\n",
    "        \n",
    "    # Create intermediate output dir if not already created\n",
    "    if not os.path.exists(os.path.join(outdir,'data_vis')):\n",
    "        os.makedirs(os.path.join(outdir,'data_vis'))\n",
    "        \n",
    "    # Generate each frame of the gif by iterating over each intermediate (Step 1) image\n",
    "    for filePath in all_jpg:\n",
    "        fig, ax = create_frame(brain, os.path.join(indir,filePath))\n",
    "\n",
    "        # Get iteration number from fileName\n",
    "        it = os.path.splitext(filePath)[0][-5:]\n",
    "        if int(it) > 15000: # Appears to be aligned after ~15k iterations\n",
    "            break\n",
    "\n",
    "        # Generate new file name\n",
    "        if isRecon:\n",
    "            newFileName = f'recon_{it}.png'\n",
    "        else:\n",
    "            newFileName = f'rgb_{it}.png'\n",
    "        newFilePath = os.path.join(outdir,'data_vis',newFileName)\n",
    "        fig.savefig(newFilePath)\n",
    "        \n",
    "    # Create empty container to store all frames\n",
    "    if isRecon:\n",
    "        filtered_frames = sorted(list(filter(check_recon, os.listdir(os.path.join(outdir,'data_vis')))))\n",
    "    else:\n",
    "        filtered_frames = sorted(list(filter(check_rgb, os.listdir(os.path.join(outdir,'data_vis')))))\n",
    "        \n",
    "    allFrames = list()\n",
    "    for filePath in filtered_frames:\n",
    "        frame = imageio.v2.imread(os.path.join(outdir,'data_vis',filePath))\n",
    "        allFrames.append(frame)\n",
    "\n",
    "    # Save list of frames as '.gif' file\n",
    "    if isRecon:\n",
    "        imageio.mimsave(os.path.join(outdir,f'{brain}_recon.gif'), allFrames, duration = 1)\n",
    "    else:\n",
    "        imageio.mimsave(os.path.join(outdir,f'{brain}_rgb.gif'), allFrames, duration = 1)        "
   ]
  },
  {
   "cell_type": "markdown",
   "id": "0b1d4990-99a5-4b36-bc75-c0c0b7e6a688",
   "metadata": {},
   "source": [
    "## Generate .gif files for Step 1 optimizations across EVERY brain"
   ]
  },
  {
   "cell_type": "code",
   "execution_count": null,
   "id": "d11dab5e-bb89-46c9-a205-8befa0ae77e7",
   "metadata": {
    "tags": []
   },
   "outputs": [],
   "source": [
    "for brain in os.listdir('dragonfly_outputs'):\n",
    "    indir = f'dragonfly_outputs/{brain}/dragonfly_output_vis/'\n",
    "    outdir = f'dragonfly_outputs/{brain}'\n",
    "    create_gif_Step1(brain, indir, outdir, isRecon = False)\n",
    "    print(f'rgb: Finished {brain}')\n",
    "\n",
    "for brain in os.listdir('dragonfly_outputs'):\n",
    "    indir = f'dragonfly_outputs/{brain}/dragonfly_output_vis/'\n",
    "    outdir = f'dragonfly_outputs/{brain}'\n",
    "    create_gif_Step1(brain, indir, outdir, isRecon = True)\n",
    "    print(f'recon: Finished {brain}')"
   ]
  },
  {
   "cell_type": "code",
   "execution_count": null,
   "id": "1475b1ef-ce5d-4349-9fa9-28507731cf24",
   "metadata": {
    "tags": []
   },
   "outputs": [],
   "source": [
    "help(imageio.mimsave)"
   ]
  },
  {
   "cell_type": "code",
   "execution_count": null,
   "id": "c64cfba3-c99e-4cd4-afa5-3c410e77a44c",
   "metadata": {
    "tags": []
   },
   "outputs": [],
   "source": [
    " os.listdir('dragonfly_outputs')"
   ]
  }
 ],
 "metadata": {
  "kernelspec": {
   "display_name": "Python 3 (ipykernel)",
   "language": "python",
   "name": "python3"
  },
  "language_info": {
   "codemirror_mode": {
    "name": "ipython",
    "version": 3
   },
   "file_extension": ".py",
   "mimetype": "text/x-python",
   "name": "python",
   "nbconvert_exporter": "python",
   "pygments_lexer": "ipython3",
   "version": "3.8.10"
  }
 },
 "nbformat": 4,
 "nbformat_minor": 5
}
