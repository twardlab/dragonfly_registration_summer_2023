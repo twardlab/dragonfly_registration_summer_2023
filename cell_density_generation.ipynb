{
 "cells": [
  {
   "cell_type": "code",
   "execution_count": null,
   "id": "285b7d21-442e-4795-acc7-c86d0ebb038e",
   "metadata": {},
   "outputs": [],
   "source": [
    "import numpy as np\n",
    "import matplotlib.pyplot as plt\n",
    "import pandas as pd\n",
    "\n",
    "import sys\n",
    "sys.path.append('/home/dtward/data/csh_data/emlddmm')\n",
    "sys.path.append('/home/abenneck/Desktop/emlddmm')\n",
    "import emlddmm\n",
    "\n",
    "from scipy.ndimage import distance_transform_edt\n",
    "import time\n",
    "\n",
    "user = 'abenneck'"
   ]
  },
  {
   "cell_type": "markdown",
   "id": "6229880a-5754-4577-b1cd-8226c2be393d",
   "metadata": {},
   "source": [
    "## Step 0: Load data and plot 2 of the (x,y,z) coordinates with 1 property as a heatmap"
   ]
  },
  {
   "cell_type": "code",
   "execution_count": null,
   "id": "26ed4cb5-a278-418d-9d02-8d019d3586f9",
   "metadata": {},
   "outputs": [],
   "source": [
    "# Load data\n",
    "pos_and_metric_path = '/home/abenneck/mounts/bmaproot/nafs/dtward/andrew_work/test/dragonfly_work/morpho_and_dist_Nov2023.csv'\n",
    "data = pd.read_csv(pos_and_metric_path)\n",
    "\n",
    "xcoords = data['x']\n",
    "ycoords = data['y']\n",
    "zcoords = data['z']\n",
    "\n",
    "x = list(zip(ycoords, zcoords))\n",
    "\n",
    "prop_name = 'D(brainBound)'\n",
    "prop = data[prop_name]\n",
    "\n",
    "data.columns"
   ]
  },
  {
   "cell_type": "code",
   "execution_count": null,
   "id": "cbd8f139-d8bd-4d70-bd8c-ff3ebba1059c",
   "metadata": {},
   "outputs": [],
   "source": [
    "fig, ax = plt.subplots()\n",
    "\n",
    "# ax.grid(True)\n",
    "h = ax.scatter(ycoords, zcoords, c = prop)\n",
    "plt.colorbar(h)\n",
    "\n",
    "ax.set_xlabel('x0 = y')\n",
    "ax.set_ylabel('x1 = z (Dorsal => Ventral)')\n",
    "ax.set_title(prop_name)\n"
   ]
  },
  {
   "cell_type": "markdown",
   "id": "921b3510-fcd1-4988-80a4-3cefed378d2e",
   "metadata": {},
   "source": [
    "## Load the Atlas"
   ]
  },
  {
   "cell_type": "code",
   "execution_count": null,
   "id": "ad14debe-6360-42e1-b31f-54abc2bf143d",
   "metadata": {},
   "outputs": [],
   "source": [
    "ontology_name = '/home/abenneck/nafs/dtward/dong/upenn_atlas/atlas_info_KimRef_FPbasedLabel_v2.7.csv'\n",
    "seg_name = '/home/abenneck/nafs/dtward/dong/upenn_atlas/UPenn_labels_reoriented_origin.vtk'\n",
    "orientation = 'W'\n",
    "\n",
    "# Load Atlas coordinates\n",
    "xS,S,_,_ = emlddmm.read_data(seg_name)\n",
    "\n",
    "atlas_x = xS[0]\n",
    "atlas_y = xS[1]\n",
    "atlas_z = xS[2]"
   ]
  },
  {
   "cell_type": "code",
   "execution_count": null,
   "id": "97d3b657-76cf-4eb1-a7fc-c9649a7c942b",
   "metadata": {
    "scrolled": true
   },
   "outputs": [],
   "source": [
    "# Round neuron coord to nearest atlas coord\n",
    "def roundCoord(sub_xS, coord):\n",
    "    if coord < np.min(sub_xS):\n",
    "        coord = np.min(sub_xS)\n",
    "    elif coord > np.max(sub_xS):\n",
    "        coord = np.max(sub_xS)\n",
    "    else:\n",
    "        coord_rounded = 20*round(coord/20) # Round coordinate to nearest 20\n",
    "        if coord < 0:\n",
    "            if coord - coord_rounded >= 0:\n",
    "                coord = coord_rounded + 10\n",
    "            else:\n",
    "                coord = coord_rounded - 10\n",
    "        else:\n",
    "            if coord - coord_rounded >= 0:\n",
    "                coord = coord_rounded + 10\n",
    "            else:\n",
    "                coord = coord_rounded - 10\n",
    "    return coord"
   ]
  },
  {
   "cell_type": "raw",
   "id": "17c3e75d-0155-43b1-bc00-9a7ae7d2fde0",
   "metadata": {},
   "source": [
    "Idea:\n",
    "\n",
    "initialize nd-array of 0s (Same shape as S)\n",
    "for all voxelIDs in S:\n",
    "    Define a mask where all voxels in S labelled as 'voxelID' => 1 and all other voxels => 0\n",
    "    Compute distance transform of this mask\n",
    "    Set all voxels != 1.0 to 0.0 (Only boundary pixels will be equal to 1.0)\n",
    "    Update elements of nd-array to 1.0 if the corresponding element is 1.0"
   ]
  },
  {
   "cell_type": "code",
   "execution_count": null,
   "id": "02df2e90-c05a-44e0-8b2d-c6be3b4ba1a2",
   "metadata": {},
   "outputs": [],
   "source": [
    "# Returns a mask where regional boundary voxels are 1 and all other voxels are 0\n",
    "def generate_regional_boundary_mask(S):\n",
    "    S_bound = np.zeros_like(S)\n",
    "    \n",
    "    for voxelID in np.unique(S)[1:]:\n",
    "        start = time.time()\n",
    "        print(f'({np.where(np.unique(S)[1:] == voxelID)[0][0]}/{len(np.unique(S)[1:])}) Starting region {voxelID}')\n",
    "        \n",
    "        S_temp = np.zeros_like(S)\n",
    "        S_temp[S == voxelID] = 1 # Sets all voxels labelled as 'voxelID' to 1, and all other voxels remain 0\n",
    "        \n",
    "        boundary_mask = distance_transform_edt(S_temp)  # Computes distance transform of subregion\n",
    "        boundary_mask[boundary_mask != 1.0] = 0.0  # Only boundary pixels have a value of 1.0 (pixels inside > 1.0 and pixels outside = 0.0)\n",
    "        \n",
    "        S_bound = np.logical_or(S_bound,boundary_mask == 1.0)\n",
    "        \n",
    "        print(f'Finished region {voxelID} in {time.time() - start}s')\n",
    "    \n",
    "    np.savez('/home/abenneck/nafs/dtward/andrew_work/test/dragonfly_work/S_bound.npz', mask = S_bound)\n",
    "\n",
    "# generate_regional_boundary_mask(S)"
   ]
  },
  {
   "cell_type": "markdown",
   "id": "1dac7d85-f6b8-420f-89c6-1cd693ab260b",
   "metadata": {},
   "source": [
    "# Example in 2D"
   ]
  },
  {
   "cell_type": "markdown",
   "id": "8815a230-5b52-4f08-be0b-b2ad254c46ee",
   "metadata": {},
   "source": [
    "## Step 1: Define a voxel grid"
   ]
  },
  {
   "cell_type": "code",
   "execution_count": null,
   "id": "272c8849-0333-47f9-ba3b-a3da337c502f",
   "metadata": {},
   "outputs": [],
   "source": [
    "xmin = np.min(xcoords)\n",
    "xmax = np.max(xcoords)\n",
    "\n",
    "ymin = np.min(ycoords)\n",
    "ymax = np.max(ycoords)\n",
    "\n",
    "zmin = np.min(zcoords)\n",
    "zmax = np.max(zcoords)\n",
    "\n",
    "print(f'xrange: ({xmin}, {xmax}), yrange: ({ymin},{ymax}), zrange: ({zmin},{zmax})')"
   ]
  },
  {
   "cell_type": "code",
   "execution_count": null,
   "id": "f139da20-0e48-4efe-acfc-3e9a6e597f1d",
   "metadata": {},
   "outputs": [],
   "source": [
    "# Rounding min and max to nearest 100 away from 0\n",
    "# x0 = np.arange(-4000,4500,50)\n",
    "# x1 = np.arange(-2300,3100,50)\n",
    "# X = np.stack(np.meshgrid(x0,x1,indexing='ij'),-1)\n",
    "\n",
    "# Use a subset of the atlas coordinates\n",
    "x0 = np.arange(roundCoord(atlas_y,np.min(ycoords)),roundCoord(atlas_y,np.max(ycoords)),20)\n",
    "x1 = np.arange(roundCoord(atlas_z,np.min(zcoords)),roundCoord(atlas_z,np.max(zcoords)),20)\n",
    "\n",
    "X = np.stack(np.meshgrid(x0,x1,indexing='ij'),-1)"
   ]
  },
  {
   "cell_type": "markdown",
   "id": "bedca843-66f0-4842-b277-7000499292ec",
   "metadata": {},
   "source": [
    "## Step 2: Estimate local cell density"
   ]
  },
  {
   "cell_type": "code",
   "execution_count": null,
   "id": "4a27e158-03a3-4f99-b2ec-eed446405997",
   "metadata": {},
   "outputs": [],
   "source": [
    "density = np.zeros_like(X[...,0], dtype = 'float64')\n",
    "sigma = 100\n",
    "for coord in x:\n",
    "    density += np.exp(  np.sum(-(X - coord)**2/2/sigma**2, -1 ) )/np.sqrt(2.0*np.pi*sigma**2)**2\n",
    "\n",
    "fig,ax = plt.subplots()\n",
    "\n",
    "# Plots \n",
    "h = ax.imshow(density)\n",
    "plt.colorbar(h)\n",
    "\n",
    "# note that the y axis is flipped by default, relative to what we sa\n",
    "ax.invert_yaxis()\n",
    "\n",
    "ax.set_xlabel('z (Dorsal => Ventral)')\n",
    "ax.set_ylabel('y')\n",
    "ax.set_title(f'Local density of cells')"
   ]
  },
  {
   "cell_type": "markdown",
   "id": "3086938d-1a50-42c8-aca8-74e5a74cfa19",
   "metadata": {},
   "source": [
    "## Step 3: Estimate local property averages"
   ]
  },
  {
   "cell_type": "code",
   "execution_count": null,
   "id": "7713c70a-d163-4ae3-ada3-729758eb0211",
   "metadata": {
    "scrolled": true
   },
   "outputs": [],
   "source": [
    "local_avg = np.zeros_like(X[...,0], dtype = 'float64')\n",
    "for xi,pi in zip(x,prop):\n",
    "    local_avg += np.exp(  np.sum(-(X - xi)**2/2/sigma**2, -1 ) )/np.sqrt(2.0*np.pi*sigma**2)**2 * pi\n",
    "\n",
    "# local_avg is actually a local sum until we divide by density\n",
    "local_avg = local_avg / density\n",
    "\n",
    "fig,ax = plt.subplots()\n",
    "# ax.scatter(zcoords, ycoords)\n",
    "h = ax.imshow(local_avg)\n",
    "\n",
    "plt.colorbar(h)\n",
    "ax.invert_yaxis()\n",
    "ax.set_title(f'Local average of {prop_name}')\n",
    "\n",
    "# ax.set_xticks(atlas_z, minor = True)\n",
    "# ax.set_yticks(atlas_y, minor = True)\n",
    "\n",
    "# ax.set_xbound(-2500,2500)\n",
    "# ax.set_ybound(-4500,4500)"
   ]
  },
  {
   "cell_type": "markdown",
   "id": "bdcb66ef-06ee-49c5-981a-b1d01610d5d7",
   "metadata": {},
   "source": [
    "## Step 4: Render local_avg map with transparency"
   ]
  },
  {
   "cell_type": "code",
   "execution_count": null,
   "id": "71bf9a7d-0374-49c8-a2b9-bae9d7961c1e",
   "metadata": {},
   "outputs": [],
   "source": [
    "cm = plt.cm.inferno\n",
    "RGBA = cm(local_avg/np.max(local_avg))\n",
    "\n",
    "fig,ax = plt.subplots()\n",
    "ax.imshow(RGBA)\n",
    "ax.invert_yaxis()"
   ]
  },
  {
   "cell_type": "markdown",
   "id": "8503c605-3aae-4741-bce8-1b4f44939122",
   "metadata": {},
   "source": [
    "### Step 4.1: Set map to 0 when far away from cells"
   ]
  },
  {
   "cell_type": "code",
   "execution_count": null,
   "id": "3d49a8c2-51b4-4954-ab81-c3bec9f6c182",
   "metadata": {},
   "outputs": [],
   "source": [
    "RGBA[...,-1] = density/np.max(density)\n",
    "fig,ax = plt.subplots()\n",
    "h = ax.imshow(RGBA,cmap=cm,vmin=np.min(local_avg),vmax=np.max(local_avg)) # extra arguments are for making a colorbar\n",
    "ax.invert_yaxis()\n",
    "# we need a colorbar\n",
    "fig.colorbar(h)"
   ]
  },
  {
   "cell_type": "markdown",
   "id": "e059e20c-62a8-4b02-a51f-cc4f683d125d",
   "metadata": {},
   "source": [
    "## Step 4.2: Put atlas behind heatmap"
   ]
  },
  {
   "cell_type": "code",
   "execution_count": null,
   "id": "17198316-f2f6-4eff-a975-386b652ebf6a",
   "metadata": {},
   "outputs": [],
   "source": [
    "fig,ax = plt.subplots()\n",
    "\n",
    "# Plots \n",
    "h = ax.imshow(RGBA, cmap=cm,vmin=np.min(local_avg),vmax=np.max(local_avg), extent = (np.min(x1),np.max(x1),np.min(x0),np.max(x0))) # 'extent': Defines area which 'density' will fill\n",
    "plt.colorbar(h)\n",
    "\n",
    "# note that the y axis is flipped by default, relative to what we sa\n",
    "ax.invert_yaxis()\n",
    "\n",
    "ax.set_xlabel('z (Dorsal => Ventral)')\n",
    "ax.set_ylabel('y')\n",
    "ax.set_title(f'Local avg of {prop_name}')\n",
    "\n",
    "# Changes axes labels from idx of 'density' to (z,y) coords from atlas\n",
    "ax.set_xticks(atlas_z, minor = True)\n",
    "ax.set_yticks(atlas_y, minor = True)\n",
    "ax.minorticks_off()"
   ]
  },
  {
   "cell_type": "markdown",
   "id": "bcb8c753-1f64-48c6-ba17-e8225fb41171",
   "metadata": {},
   "source": [
    "# Example in 3D"
   ]
  },
  {
   "cell_type": "markdown",
   "id": "4f0b8fbb-b0f0-4f47-ab70-a23c9e1025e7",
   "metadata": {},
   "source": [
    "## Step 1: Define voxel grid"
   ]
  },
  {
   "cell_type": "code",
   "execution_count": null,
   "id": "3ad75599-583c-45a1-a4a3-bae65d70af42",
   "metadata": {},
   "outputs": [],
   "source": [
    "x = zip(ycoords, zcoords, xcoords)\n",
    "\n",
    "# Rounding min and max to nearest 100 away from 0\n",
    "x0 = np.arange(-4000,4500,50)\n",
    "x1 = np.arange(-2300,3100,50)\n",
    "x2 = np.arange(-1150,2850,50) # Padded each size by 50 => len(x2) = 80, better number for visualizations\n",
    "X = np.stack(np.meshgrid(x0,x1,x2,indexing='ij'),-1)"
   ]
  },
  {
   "cell_type": "markdown",
   "id": "91621f63-ae28-4cc4-aec4-491b9db2f38d",
   "metadata": {},
   "source": [
    "## Step 2: Estimate local cell density"
   ]
  },
  {
   "cell_type": "code",
   "execution_count": null,
   "id": "7811b385-69fb-433b-924c-0e7909c8ed18",
   "metadata": {
    "scrolled": true
   },
   "outputs": [],
   "source": [
    "density = np.zeros_like(X[...,0], dtype = 'float64')\n",
    "sigma = 100\n",
    "count = 0\n",
    "for coord in x:\n",
    "    density += np.exp(  np.sum(-(X - coord)**2/2/sigma**2, -1 ) )/np.sqrt(2.0*np.pi*sigma**2)**3\n",
    "    if count % 100 == 0:\n",
    "        print(f'Finished {count}/{len(xcoords)}')\n",
    "    count+=1"
   ]
  },
  {
   "cell_type": "code",
   "execution_count": null,
   "id": "c65927f3-cf47-47dc-a428-def9875bd6d1",
   "metadata": {
    "scrolled": true
   },
   "outputs": [],
   "source": [
    "# Generate data for plots\n",
    "num_subplots = 16\n",
    "density_plots = np.zeros([np.shape(density)[0], np.shape(density)[1], num_subplots]) # Will contain all density MIPS for the subplot figure below\n",
    "count = 0\n",
    "nplots = 5 # Number of plots combined in MIP\n",
    "\n",
    "for i in np.arange(np.shape(density_plots)[2]): # Iterate over each elem of 'density_plots'\n",
    "    # print(f'=== {i} ===')\n",
    "    for j in np.arange(count*nplots,(count+1)*nplots): # Iterate over the ith set of 5 elements in 'density'\n",
    "        # print(f'{j}: {len(np.unique(density_plots[:,:,i]))}, {np.sum(density_plots[:,:,i])}')\n",
    "        density_plots[:,:,i] = np.maximum(density_plots[:,:,i],density[:,:,j])\n",
    "    count+=1"
   ]
  },
  {
   "cell_type": "code",
   "execution_count": null,
   "id": "35302ab0-4203-40fe-b0d3-c34d5c23215a",
   "metadata": {},
   "outputs": [],
   "source": [
    "fig, ax = plt.subplots(4,4,sharey=True,sharex=True)\n",
    "x_tick = 50\n",
    "x_start = -1150\n",
    "\n",
    "count = 0\n",
    "for ai in ax:\n",
    "    for aj in ai:\n",
    "        im = aj.imshow(density_plots[:,:,count],vmin=np.min(density_plots),vmax=np.max(density_plots))\n",
    "        aj.set_title(f'{count*nplots*x_tick+x_start}:{(count+1)*nplots*x_tick-1+x_start}')\n",
    "        count+=1\n",
    "\n",
    "fig.set_size_inches(8,8)\n",
    "fig.subplots_adjust(wspace=0)\n",
    "fig.suptitle('Local cell densities')\n",
    "fig.colorbar(im,ax=ax.ravel().tolist())\n",
    "fig.supxlabel('z (Dorsal => Ventral)')\n",
    "fig.supylabel('y')\n",
    "\n",
    "# Title: The range of x coordinates in the MIP"
   ]
  },
  {
   "cell_type": "markdown",
   "id": "9bd78dda-8b7b-4568-b630-d8c96c39938b",
   "metadata": {},
   "source": [
    "## Step 3: Estimate local property average"
   ]
  },
  {
   "cell_type": "code",
   "execution_count": null,
   "id": "19cb981a-9e06-465d-a0eb-283b0f28ae62",
   "metadata": {},
   "outputs": [],
   "source": [
    "density[density == 0.0] = np.unique(density)[1] # Set all instances of 0.0 to the second lowest value from 'density'\n",
    "\n",
    "# Gets rid of divide by 0 error with minimal manipulation of data"
   ]
  },
  {
   "cell_type": "code",
   "execution_count": null,
   "id": "d9fe0b2e-e248-4ddc-9e90-75b975e9a883",
   "metadata": {
    "scrolled": true
   },
   "outputs": [],
   "source": [
    "local_avg = np.zeros_like(X[...,0], dtype = 'float64')\n",
    "count = 0\n",
    "for yi,zi,xi,pi in zip(ycoords,zcoords,xcoords,prop):\n",
    "    local_avg += np.exp(  np.sum(-(X - [yi,zi,xi])**2/2/sigma**2, -1 ) )/np.sqrt(2.0*np.pi*sigma**2)**3 * pi\n",
    "    if count % 100 == 0:\n",
    "        print(f'Finished {count}/{len(xcoords)}')\n",
    "    count+=1\n",
    "\n",
    "# local_avg is actually a local sum until we divide by density\n",
    "local_avg = local_avg / density"
   ]
  },
  {
   "cell_type": "code",
   "execution_count": null,
   "id": "c48aeb69-9916-48a5-8eb2-fe64065817fb",
   "metadata": {},
   "outputs": [],
   "source": [
    "# Generate data for plots\n",
    "num_subplots = 16\n",
    "local_avg_plots = np.zeros([np.shape(local_avg)[0], np.shape(local_avg)[1], num_subplots]) # Will contain all density MIPS for the subplot figure below\n",
    "count = 0\n",
    "nplots = 5\n",
    "\n",
    "for i in np.arange(np.shape(local_avg_plots)[2]): # Iterate over each elem of 'density_plots'\n",
    "    # print(f'=== {i} ===')\n",
    "    for j in np.arange(count*nplots,(count+1)*nplots): # Iterate over the ith set of 5 elements in 'density'\n",
    "        # print(f'{j}: {len(np.unique(density_plots[:,:,i]))}, {np.sum(density_plots[:,:,i])}')\n",
    "        local_avg_plots[:,:,i] = np.maximum(local_avg_plots[:,:,i],local_avg[:,:,j])\n",
    "    count+=1"
   ]
  },
  {
   "cell_type": "code",
   "execution_count": null,
   "id": "2f7a9da9-a6ff-423d-862c-4a4a77a7875b",
   "metadata": {},
   "outputs": [],
   "source": [
    "fig, ax = plt.subplots(4,4,sharey=True,sharex=True)\n",
    "x_tick = 50\n",
    "x_start = -1150\n",
    "\n",
    "count = 0\n",
    "for ai in ax:\n",
    "    for aj in ai:\n",
    "        im = aj.imshow(local_avg_plots[:,:,count])\n",
    "        aj.set_title(f'{count*nplots*x_tick+x_start}:{(count+1)*nplots*x_tick-1+x_start}')\n",
    "        count+=1\n",
    "\n",
    "fig.set_size_inches(8,8)\n",
    "fig.subplots_adjust(wspace=0)\n",
    "fig.suptitle(f'{prop_name}')\n",
    "fig.colorbar(im,ax=ax.ravel().tolist())\n",
    "fig.supxlabel('z (Dorsal => Ventral)')\n",
    "fig.supylabel('y')\n",
    "\n",
    "# Title: The range of x coordinates in the MIP"
   ]
  }
 ],
 "metadata": {
  "kernelspec": {
   "display_name": "Python 3 (ipykernel)",
   "language": "python",
   "name": "python3"
  },
  "language_info": {
   "codemirror_mode": {
    "name": "ipython",
    "version": 3
   },
   "file_extension": ".py",
   "mimetype": "text/x-python",
   "name": "python",
   "nbconvert_exporter": "python",
   "pygments_lexer": "ipython3",
   "version": "3.10.12"
  }
 },
 "nbformat": 4,
 "nbformat_minor": 5
}
