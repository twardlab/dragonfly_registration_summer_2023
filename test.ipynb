{
 "cells": [
  {
   "cell_type": "code",
   "execution_count": null,
   "id": "799b3f15-5053-42ac-85c4-6ae75f8c63cf",
   "metadata": {},
   "outputs": [],
   "source": [
    "import os\n",
    "\n",
    "def L1_filter_dist(fileName):\n",
    "    if len(fileName) <= 21 and fileName != '.ipynb_checkpoints' and 'cp' in fileName:\n",
    "        return True\n",
    "    else:\n",
    "        return False\n",
    "\n",
    "def L2_filter_dist(fileName):\n",
    "    if len(fileName) > 21 and fileName != '.ipynb_checkpoints' and 'cp' in fileName:\n",
    "        return True\n",
    "    else:\n",
    "        return False\n",
    "\n",
    "def non_CP_filter_dist(fileName):\n",
    "    if not L2_filter_dist(fileName) and not L1_filter_dist(fileName) and fileName != '.ipynb_checkpoints':\n",
    "        return True\n",
    "    else:\n",
    "        return False\n",
    "\n",
    "def reorder_nonCP(fileList):\n",
    "    return [fileList[6], fileList[7], fileList[2], fileList[3], fileList[0], fileList[1], fileList[4], fileList[5], fileList[-2], fileList[-1], fileList[8], fileList[9], fileList[-4], fileList[-3], fileList[-6], fileList[-5]]\n",
    "\n",
    "\n",
    "\n",
    "paramDir = '/home/abenneck/dragonfly_work/gaussian_parameters'\n",
    "nonCP_files = sorted(filter(non_CP_filter_dist,os.listdir(paramDir)))\n",
    "\n",
    "nonCP_files"
   ]
  },
  {
   "cell_type": "code",
   "execution_count": null,
   "id": "bcc747f3-1c1d-445f-89ce-decbe9f29410",
   "metadata": {},
   "outputs": [],
   "source": [
    "def reorder_nonCP(fileList):\n",
    "    return [fileList[14], fileList[15], fileList[2], fileList[3], fileList[0], fileList[1], fileList[12], fileList[13], fileList[28], fileList[29], \n",
    "            fileList[], fileList[], fileList[], fileList[], fileList[], fileList[], fileList[], fileList[], fileList[], fileList[], \n",
    "            fileList[], fileList[], fileList[], fileList[], fileList[], fileList[], fileList[], fileList[], fileList[], fileList[]]\n",
    "\n",
    "reorder_nonCP(nonCP_files)"
   ]
  }
 ],
 "metadata": {
  "kernelspec": {
   "display_name": "Python 3 (ipykernel)",
   "language": "python",
   "name": "python3"
  },
  "language_info": {
   "codemirror_mode": {
    "name": "ipython",
    "version": 3
   },
   "file_extension": ".py",
   "mimetype": "text/x-python",
   "name": "python",
   "nbconvert_exporter": "python",
   "pygments_lexer": "ipython3",
   "version": "3.8.10"
  }
 },
 "nbformat": 4,
 "nbformat_minor": 5
}
